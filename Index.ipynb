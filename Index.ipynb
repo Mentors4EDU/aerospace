{
 "cells": [
  {
   "cell_type": "code",
   "execution_count": 16,
   "metadata": {},
   "outputs": [],
   "source": [
    "import pygments"
   ]
  },
  {
   "cell_type": "code",
   "execution_count": 17,
   "metadata": {},
   "outputs": [
    {
     "name": "stdout",
     "output_type": "stream",
     "text": [
      "Requirement already satisfied: flit in /srv/conda/envs/notebook/lib/python3.6/site-packages (3.4.0)\n",
      "Requirement already satisfied: requests in /srv/conda/envs/notebook/lib/python3.6/site-packages (from flit) (2.26.0)\n",
      "Requirement already satisfied: docutils in /srv/conda/envs/notebook/lib/python3.6/site-packages (from flit) (0.18)\n",
      "Requirement already satisfied: tomli-w in /srv/conda/envs/notebook/lib/python3.6/site-packages (from flit) (0.4.0)\n",
      "Requirement already satisfied: flit_core>=3.4.0 in /srv/conda/envs/notebook/lib/python3.6/site-packages (from flit) (3.4.0)\n",
      "Requirement already satisfied: tomli in /srv/conda/envs/notebook/lib/python3.6/site-packages (from flit) (1.2.2)\n",
      "Requirement already satisfied: urllib3<1.27,>=1.21.1 in /srv/conda/envs/notebook/lib/python3.6/site-packages (from requests->flit) (1.26.7)\n",
      "Requirement already satisfied: certifi>=2017.4.17 in /srv/conda/envs/notebook/lib/python3.6/site-packages (from requests->flit) (2021.5.30)\n",
      "Requirement already satisfied: charset-normalizer~=2.0.0 in /srv/conda/envs/notebook/lib/python3.6/site-packages (from requests->flit) (2.0.0)\n",
      "Requirement already satisfied: idna<4,>=2.5 in /srv/conda/envs/notebook/lib/python3.6/site-packages (from requests->flit) (3.1)\n",
      "Note: you may need to restart the kernel to use updated packages.\n"
     ]
    }
   ],
   "source": [
    "pip install flit"
   ]
  },
  {
   "cell_type": "code",
   "execution_count": 11,
   "metadata": {},
   "outputs": [
    {
     "ename": "SyntaxError",
     "evalue": "invalid syntax (<ipython-input-11-1103642560d1>, line 1)",
     "output_type": "error",
     "traceback": [
      "\u001b[0;36m  File \u001b[0;32m\"<ipython-input-11-1103642560d1>\"\u001b[0;36m, line \u001b[0;32m1\u001b[0m\n\u001b[0;31m    flit install --symlink path/to/scikit-aero\u001b[0m\n\u001b[0m               ^\u001b[0m\n\u001b[0;31mSyntaxError\u001b[0m\u001b[0;31m:\u001b[0m invalid syntax\n"
     ]
    }
   ],
   "source": [
    "flit install --symlink path/to/scikit-aero"
   ]
  }
 ],
 "metadata": {
  "kernelspec": {
   "display_name": "Python 3",
   "language": "python",
   "name": "python3"
  },
  "language_info": {
   "codemirror_mode": {
    "name": "ipython",
    "version": 3
   },
   "file_extension": ".py",
   "mimetype": "text/x-python",
   "name": "python",
   "nbconvert_exporter": "python",
   "pygments_lexer": "ipython3",
   "version": "3.6.13"
  }
 },
 "nbformat": 4,
 "nbformat_minor": 2
}
