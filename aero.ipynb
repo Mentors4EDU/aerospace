{
 "cells": [
  {
   "cell_type": "code",
   "execution_count": 3,
   "metadata": {},
   "outputs": [
    {
     "name": "stdout",
     "output_type": "stream",
     "text": [
      "Requirement already satisfied: pygments in /srv/conda/envs/notebook/lib/python3.6/site-packages (2.9.0)\n",
      "Collecting flit\n",
      "  Downloading flit-3.4.0-py3-none-any.whl (49 kB)\n",
      "\u001b[K     |████████████████████████████████| 49 kB 5.0 MB/s  eta 0:00:01\n",
      "\u001b[?25hCollecting tomli\n",
      "  Downloading tomli-1.2.2-py3-none-any.whl (12 kB)\n",
      "Requirement already satisfied: requests in /srv/conda/envs/notebook/lib/python3.6/site-packages (from flit) (2.26.0)\n",
      "Collecting tomli-w\n",
      "  Downloading tomli_w-0.4.0-py3-none-any.whl (6.0 kB)\n",
      "Collecting flit_core>=3.4.0\n",
      "  Downloading flit_core-3.4.0-py3-none-any.whl (44 kB)\n",
      "\u001b[K     |████████████████████████████████| 44 kB 2.7 MB/s  eta 0:00:01\n",
      "\u001b[?25hCollecting docutils\n",
      "  Downloading docutils-0.18-py2.py3-none-any.whl (569 kB)\n",
      "\u001b[K     |████████████████████████████████| 569 kB 37.4 MB/s eta 0:00:01\n",
      "\u001b[?25hRequirement already satisfied: idna<4,>=2.5 in /srv/conda/envs/notebook/lib/python3.6/site-packages (from requests->flit) (3.1)\n",
      "Requirement already satisfied: certifi>=2017.4.17 in /srv/conda/envs/notebook/lib/python3.6/site-packages (from requests->flit) (2021.5.30)\n",
      "Requirement already satisfied: charset-normalizer~=2.0.0 in /srv/conda/envs/notebook/lib/python3.6/site-packages (from requests->flit) (2.0.0)\n",
      "Requirement already satisfied: urllib3<1.27,>=1.21.1 in /srv/conda/envs/notebook/lib/python3.6/site-packages (from requests->flit) (1.26.6)\n",
      "Installing collected packages: tomli, tomli-w, flit-core, docutils, flit\n",
      "Successfully installed docutils-0.18 flit-3.4.0 flit-core-3.4.0 tomli-1.2.2 tomli-w-0.4.0\n",
      "Requirement already satisfied: scikit-learn in /srv/conda/envs/notebook/lib/python3.6/site-packages (0.24.2)\n",
      "Requirement already satisfied: threadpoolctl>=2.0.0 in /srv/conda/envs/notebook/lib/python3.6/site-packages (from scikit-learn) (2.2.0)\n",
      "Requirement already satisfied: joblib>=0.11 in /srv/conda/envs/notebook/lib/python3.6/site-packages (from scikit-learn) (1.0.1)\n",
      "Requirement already satisfied: scipy>=0.19.1 in /srv/conda/envs/notebook/lib/python3.6/site-packages (from scikit-learn) (1.5.3)\n",
      "Requirement already satisfied: numpy>=1.13.3 in /srv/conda/envs/notebook/lib/python3.6/site-packages (from scikit-learn) (1.19.5)\n"
     ]
    }
   ],
   "source": [
    "!pip install pygments\n",
    "import pygments\n",
    "!pip install flit\n",
    "import flit\n",
    "!pip install scikit-learn"
   ]
  }
 ],
 "metadata": {
  "kernelspec": {
   "display_name": "Python 3",
   "language": "python",
   "name": "python3"
  },
  "language_info": {
   "codemirror_mode": {
    "name": "ipython",
    "version": 3
   },
   "file_extension": ".py",
   "mimetype": "text/x-python",
   "name": "python",
   "nbconvert_exporter": "python",
   "pygments_lexer": "ipython3",
   "version": "3.6.13"
  }
 },
 "nbformat": 4,
 "nbformat_minor": 2
}
