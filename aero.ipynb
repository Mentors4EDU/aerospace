{
 "cells": [
  {
   "cell_type": "code",
   "execution_count": 1,
   "metadata": {},
   "outputs": [
    {
     "name": "stdout",
     "output_type": "stream",
     "text": [
      "Requirement already satisfied: pygments in /srv/conda/envs/notebook/lib/python3.6/site-packages (2.10.0)\n",
      "Requirement already satisfied: flit in /srv/conda/envs/notebook/lib/python3.6/site-packages (3.4.0)\n",
      "Requirement already satisfied: tomli in /srv/conda/envs/notebook/lib/python3.6/site-packages (from flit) (1.2.2)\n",
      "Requirement already satisfied: docutils in /srv/conda/envs/notebook/lib/python3.6/site-packages (from flit) (0.18)\n",
      "Requirement already satisfied: tomli-w in /srv/conda/envs/notebook/lib/python3.6/site-packages (from flit) (0.4.0)\n",
      "Requirement already satisfied: flit_core>=3.4.0 in /srv/conda/envs/notebook/lib/python3.6/site-packages (from flit) (3.4.0)\n",
      "Requirement already satisfied: requests in /srv/conda/envs/notebook/lib/python3.6/site-packages (from flit) (2.26.0)\n",
      "Requirement already satisfied: charset-normalizer~=2.0.0 in /srv/conda/envs/notebook/lib/python3.6/site-packages (from requests->flit) (2.0.0)\n",
      "Requirement already satisfied: certifi>=2017.4.17 in /srv/conda/envs/notebook/lib/python3.6/site-packages (from requests->flit) (2021.5.30)\n",
      "Requirement already satisfied: urllib3<1.27,>=1.21.1 in /srv/conda/envs/notebook/lib/python3.6/site-packages (from requests->flit) (1.26.7)\n",
      "Requirement already satisfied: idna<4,>=2.5 in /srv/conda/envs/notebook/lib/python3.6/site-packages (from requests->flit) (3.1)\n",
      "Requirement already satisfied: scikit-learn in /srv/conda/envs/notebook/lib/python3.6/site-packages (0.24.2)\n",
      "Requirement already satisfied: scipy>=0.19.1 in /srv/conda/envs/notebook/lib/python3.6/site-packages (from scikit-learn) (1.5.3)\n",
      "Requirement already satisfied: numpy>=1.13.3 in /srv/conda/envs/notebook/lib/python3.6/site-packages (from scikit-learn) (1.19.5)\n",
      "Requirement already satisfied: threadpoolctl>=2.0.0 in /srv/conda/envs/notebook/lib/python3.6/site-packages (from scikit-learn) (3.0.0)\n",
      "Requirement already satisfied: joblib>=0.11 in /srv/conda/envs/notebook/lib/python3.6/site-packages (from scikit-learn) (1.1.0)\n",
      "Requirement already satisfied: scikit-aero in /srv/conda/envs/notebook/lib/python3.6/site-packages (0.1)\n",
      "Requirement already satisfied: numpy in /srv/conda/envs/notebook/lib/python3.6/site-packages (1.19.5)\n"
     ]
    }
   ],
   "source": [
    "!pip install pygments\n",
    "import pygments\n",
    "!pip install flit\n",
    "import flit\n",
    "!pip install scikit-learn\n",
    "!pip install scikit-aero\n",
    "from skaero.atmosphere import coesa\n",
    "from skaero.gasdynamics import isentropic, shocks\n",
    "!pip install numpy\n",
    "import numpy as np"
   ]
  },
  {
   "cell_type": "code",
   "execution_count": 2,
   "metadata": {},
   "outputs": [
    {
     "name": "stdout",
     "output_type": "stream",
     "text": [
      "7.810249675906654\n",
      "3720.999999999999\n",
      "3.905124837953327\n",
      "1.810249675906654\n"
     ]
    }
   ],
   "source": [
    "A = np.array([1, 3, 7, 21])\n",
    "output = np.std(A)\n",
    "print(output)\n",
    "print(output**4)\n",
    "print(output/2)\n",
    "print(output%2)"
   ]
  },
  {
   "cell_type": "code",
   "execution_count": 3,
   "metadata": {},
   "outputs": [
    {
     "name": "stdout",
     "output_type": "stream",
     "text": [
      "Requirement already satisfied: sims in /srv/conda/envs/notebook/lib/python3.6/site-packages (2.0.0)\n",
      "Requirement already satisfied: xarray in /srv/conda/envs/notebook/lib/python3.6/site-packages (from sims) (0.16.2)\n",
      "Requirement already satisfied: scikit-image in /srv/conda/envs/notebook/lib/python3.6/site-packages (from sims) (0.17.2)\n",
      "Requirement already satisfied: matplotlib in /srv/conda/envs/notebook/lib/python3.6/site-packages (from sims) (3.3.4)\n",
      "Requirement already satisfied: scipy in /srv/conda/envs/notebook/lib/python3.6/site-packages (from sims) (1.5.3)\n",
      "Requirement already satisfied: python-dateutil>=2.1 in /srv/conda/envs/notebook/lib/python3.6/site-packages (from matplotlib->sims) (2.8.2)\n",
      "Requirement already satisfied: pyparsing!=2.0.4,!=2.1.2,!=2.1.6,>=2.0.3 in /srv/conda/envs/notebook/lib/python3.6/site-packages (from matplotlib->sims) (2.4.7)\n",
      "Requirement already satisfied: kiwisolver>=1.0.1 in /srv/conda/envs/notebook/lib/python3.6/site-packages (from matplotlib->sims) (1.3.1)\n",
      "Requirement already satisfied: numpy>=1.15 in /srv/conda/envs/notebook/lib/python3.6/site-packages (from matplotlib->sims) (1.19.5)\n",
      "Requirement already satisfied: pillow>=6.2.0 in /srv/conda/envs/notebook/lib/python3.6/site-packages (from matplotlib->sims) (8.3.2)\n",
      "Requirement already satisfied: cycler>=0.10 in /srv/conda/envs/notebook/lib/python3.6/site-packages (from matplotlib->sims) (0.11.0)\n",
      "Requirement already satisfied: six>=1.5 in /srv/conda/envs/notebook/lib/python3.6/site-packages (from python-dateutil>=2.1->matplotlib->sims) (1.16.0)\n",
      "Requirement already satisfied: networkx>=2.0 in /srv/conda/envs/notebook/lib/python3.6/site-packages (from scikit-image->sims) (2.6.3)\n",
      "Requirement already satisfied: imageio>=2.3.0 in /srv/conda/envs/notebook/lib/python3.6/site-packages (from scikit-image->sims) (2.9.0)\n",
      "Requirement already satisfied: tifffile>=2019.7.26 in /srv/conda/envs/notebook/lib/python3.6/site-packages (from scikit-image->sims) (2020.10.1)\n",
      "Requirement already satisfied: PyWavelets>=1.1.1 in /srv/conda/envs/notebook/lib/python3.6/site-packages (from scikit-image->sims) (1.1.1)\n",
      "Requirement already satisfied: setuptools>=38.4 in /srv/conda/envs/notebook/lib/python3.6/site-packages (from xarray->sims) (58.0.4)\n",
      "Requirement already satisfied: pandas>=0.25 in /srv/conda/envs/notebook/lib/python3.6/site-packages (from xarray->sims) (1.1.5)\n",
      "Requirement already satisfied: pytz>=2017.2 in /srv/conda/envs/notebook/lib/python3.6/site-packages (from pandas>=0.25->xarray->sims) (2021.3)\n"
     ]
    }
   ],
   "source": [
    "import matplotlib.pyplot as plt\n",
    "from sklearn.covariance import EmpiricalCovariance, MinCovDet\n",
    "!pip install sims\n",
    "import sims"
   ]
  }
 ],
 "metadata": {
  "kernelspec": {
   "display_name": "Python 3",
   "language": "python",
   "name": "python3"
  },
  "language_info": {
   "codemirror_mode": {
    "name": "ipython",
    "version": 3
   },
   "file_extension": ".py",
   "mimetype": "text/x-python",
   "name": "python",
   "nbconvert_exporter": "python",
   "pygments_lexer": "ipython3",
   "version": "3.6.13"
  }
 },
 "nbformat": 4,
 "nbformat_minor": 2
}
